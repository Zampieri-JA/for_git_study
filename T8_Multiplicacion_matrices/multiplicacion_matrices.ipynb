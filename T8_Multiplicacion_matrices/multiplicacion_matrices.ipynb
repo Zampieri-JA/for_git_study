{
 "cells": [
  {
   "cell_type": "markdown",
   "id": "12452972",
   "metadata": {},
   "source": [
    "## Implementación de la Multiplicación de Matrices\n",
    "Curso: Ingeniero de Machine Learning\n",
    "\n",
    "By: Est. Jorge Eduardo Antelo Zampieri"
   ]
  },
  {
   "cell_type": "markdown",
   "id": "1cfe057b",
   "metadata": {},
   "source": [
    "#### Comprensión de la Multiplicación de Matrices"
   ]
  },
  {
   "cell_type": "markdown",
   "id": "c44435f0",
   "metadata": {},
   "source": [
    "La multiplicación de matrices aparece en muchas situaciones en el análisis de datos reales y en los cálculos de modelos de aprendizaje automático"
   ]
  },
  {
   "cell_type": "code",
   "execution_count": 2,
   "id": "3f578731",
   "metadata": {},
   "outputs": [
    {
     "name": "stdout",
     "output_type": "stream",
     "text": [
      "Matriz A:\n",
      " [[-1  2  3]\n",
      " [ 4 -5  6]\n",
      " [ 7  8 -9]]\n",
      "\n",
      "Matriz B:\n",
      " [[ 0  2  1]\n",
      " [ 0  2 -8]\n",
      " [ 2  9 -1]]\n"
     ]
    }
   ],
   "source": [
    "# Importamos numpy\n",
    "import numpy as np\n",
    "\n",
    "# Creamos 2 matrices A y B\n",
    "a_ndarray = np.array([[-1, 2, 3], [4, -5, 6], [7, 8, -9]])\n",
    "b_ndarray = np.array([[0, 2, 1], [0, 2, -8], [2, 9, -1]])\n",
    "\n",
    "# Mostramos las matrices\n",
    "print(\"Matriz A:\\n\", a_ndarray)\n",
    "print(\"\\nMatriz B:\\n\", b_ndarray)"
   ]
  },
  {
   "cell_type": "markdown",
   "id": "ee96bbcb",
   "metadata": {},
   "source": [
    "#### Comprender la multiplicación de matrices a mano"
   ]
  },
  {
   "attachments": {
    "image.png": {
     "image/png": "[encoded data removed]"
    }
   },
   "cell_type": "markdown",
   "id": "b10b4908",
   "metadata": {},
   "source": [
    "El cálculo de la multiplicación de matrices a mano implica los siguientes pasos, que son importantes para desarrollar una mejor comprensión de las operaciones con matrices:\n",
    "\n",
    "- Combina cada fila de la matriz A con cada columna de la matriz B.\n",
    "- Multiplica los elementos correspondientes entre sí y toma la suma de todas las combinaciones.\n",
    "- Cada elemento de la matriz C se obtiene multiplicando y sumando cada elemento.\n",
    "- Expresados ​​matemáticamente, los elementos $c_{i,j}$ de la matriz C son los siguientes como se muestra en la figura:\n",
    "\n",
    "![image.png](attachment:image.png)\n",
    "\n"
   ]
  },
  {
   "cell_type": "markdown",
   "id": "b7d63d58",
   "metadata": {},
   "source": [
    "#### Cálculo de la multiplicación de matrices usando NumPy"
   ]
  },
  {
   "cell_type": "code",
   "execution_count": 4,
   "id": "1138e593",
   "metadata": {},
   "outputs": [
    {
     "name": "stdout",
     "output_type": "stream",
     "text": [
      "[[  6  29 -20]\n",
      " [ 12  52  38]\n",
      " [-18 -51 -48]]\n"
     ]
    }
   ],
   "source": [
    "# Multiplicamos las matrices usando .matmul()\n",
    "result1 = np.matmul(a_ndarray, b_ndarray)\n",
    "print(result1)"
   ]
  },
  {
   "cell_type": "code",
   "execution_count": 7,
   "id": "df1754cf",
   "metadata": {},
   "outputs": [
    {
     "name": "stdout",
     "output_type": "stream",
     "text": [
      "[[  6  29 -20]\n",
      " [ 12  52  38]\n",
      " [-18 -51 -48]]\n"
     ]
    }
   ],
   "source": [
    "# Multiplicamos las matrices usando el operador @\n",
    "result2 = a_ndarray @ b_ndarray\n",
    "print(result2)"
   ]
  },
  {
   "cell_type": "code",
   "execution_count": 8,
   "id": "ce03eff8",
   "metadata": {},
   "outputs": [
    {
     "name": "stdout",
     "output_type": "stream",
     "text": [
      "[[  6  29 -20]\n",
      " [ 12  52  38]\n",
      " [-18 -51 -48]]\n"
     ]
    }
   ],
   "source": [
    "# Multiplicamos las matrices usando el operador .dot()\n",
    "result3 = a_ndarray.dot(b_ndarray)\n",
    "print(result3)"
   ]
  },
  {
   "cell_type": "code",
   "execution_count": 12,
   "id": "52bc8975",
   "metadata": {},
   "outputs": [
    {
     "name": "stdout",
     "output_type": "stream",
     "text": [
      "\n",
      "¿El result1 es igual a result2?: True\n",
      "¿El result1 es igual a result3?: True\n",
      "¿El result2 es igual a result3?: True\n"
     ]
    }
   ],
   "source": [
    "# Comparamos si los resultados son iguales\n",
    "\n",
    "print(\"\\n¿El result1 es igual a result2?:\", np.array_equal(result1, result2))\n",
    "print(\"¿El result1 es igual a result3?:\", np.array_equal(result1, result3))\n",
    "print(\"¿El result2 es igual a result3?:\", np.array_equal(result2, result3))"
   ]
  },
  {
   "cell_type": "markdown",
   "id": "dcf92f6f",
   "metadata": {},
   "source": [
    "#### Implementación de Scratch en la multiplicación de matrices"
   ]
  },
  {
   "cell_type": "code",
   "execution_count": 16,
   "id": "25cbf229",
   "metadata": {},
   "outputs": [
    {
     "name": "stdout",
     "output_type": "stream",
     "text": [
      "\n",
      "Resultado de la multiplicación de matrices usando Scratch:\n",
      " [[  6.  29. -20.]\n",
      " [ 12.  52.  38.]\n",
      " [-18. -51. -48.]]\n"
     ]
    }
   ],
   "source": [
    "# Creamos una función para realizar la multiplicación de matrices desde cero con Scratch\n",
    "def matmul_scratch(a, b):\n",
    "    result = np.zeros((a.shape[0], b.shape[1]))  # crea una matriz de ceros\n",
    "    for i in range(a.shape[0]):\n",
    "        for j in range(b.shape[1]):\n",
    "            for k in range(a.shape[1]):\n",
    "                result[i, j] += a[i, k] * b[k, j]\n",
    "    return result\n",
    "\n",
    "scratch_result = matmul_scratch(a_ndarray, b_ndarray)\n",
    "print(\"\\nResultado de la multiplicación de matrices usando Scratch:\\n\", scratch_result)"
   ]
  },
  {
   "cell_type": "code",
   "execution_count": 17,
   "id": "b2d634b7",
   "metadata": {},
   "outputs": [
    {
     "name": "stdout",
     "output_type": "stream",
     "text": [
      "\n",
      "¿El result1 es igual a result2?: True\n"
     ]
    }
   ],
   "source": [
    "# Verificamos si el resultado de Scratch es igual a los otros resultados\n",
    "print(\"\\n¿El result1 es igual a result2?:\", np.array_equal(result1, scratch_result))"
   ]
  },
  {
   "cell_type": "markdown",
   "id": "55e9f4d2",
   "metadata": {},
   "source": [
    "#### ¿Qué pasa si no se define ningún cálculo?"
   ]
  },
  {
   "cell_type": "code",
   "execution_count": 19,
   "id": "89147052",
   "metadata": {},
   "outputs": [
    {
     "name": "stdout",
     "output_type": "stream",
     "text": [
      "\n",
      "Matriz D:\n",
      " [[-1  2  3]\n",
      " [ 4 -5  6]]\n",
      "\n",
      "Matriz E:\n",
      " [[-9  8  7]\n",
      " [ 6 -5  4]]\n"
     ]
    }
   ],
   "source": [
    "# Creamos 2 matrices A y B\n",
    "d_ndarray = np.array([[-1, 2, 3], [4, -5, 6]])\n",
    "e_ndarray = np.array([[-9, 8, 7], [6, -5, 4]])\n",
    "\n",
    "# Mostramos las matrices\n",
    "print(\"\\nMatriz D:\\n\", d_ndarray)\n",
    "print(\"\\nMatriz E:\\n\", e_ndarray)"
   ]
  },
  {
   "cell_type": "code",
   "execution_count": 21,
   "id": "12c226fb",
   "metadata": {},
   "outputs": [
    {
     "name": "stdout",
     "output_type": "stream",
     "text": [
      "No se puede calcular: el número de columnas no coincide con el número de filas\n"
     ]
    }
   ],
   "source": [
    "# Creamos una función para multiplicar matrices sin definir ningún cálculo\n",
    "def is_multiplicable(a, b):\n",
    "    if a.shape[1] != b.shape[0]:\n",
    "        print(\"No se puede calcular: el número de columnas no coincide con el número de filas\")\n",
    "        return False\n",
    "    return True\n",
    "\n",
    "if is_multiplicable(d_ndarray, e_ndarray):\n",
    "    print(np.matmul(d_ndarray, e_ndarray))"
   ]
  },
  {
   "cell_type": "markdown",
   "id": "5599d85e",
   "metadata": {},
   "source": [
    "#### Cálculo de la multiplicación de matrices por transposición"
   ]
  },
  {
   "cell_type": "markdown",
   "id": "698a4013",
   "metadata": {},
   "source": [
    "En algunos casos, la multiplicación de matrices es posible si una de ellas se transpone"
   ]
  },
  {
   "cell_type": "code",
   "execution_count": 29,
   "id": "472a2df0",
   "metadata": {},
   "outputs": [
    {
     "name": "stdout",
     "output_type": "stream",
     "text": [
      "El resultado de la multiplicación es:\n",
      "[[ 46  -4]\n",
      " [-34  73]]\n"
     ]
    }
   ],
   "source": [
    "# Transponemos la matriz E y luego multiplicamos\n",
    "e_transposed = e_ndarray.T\n",
    "result4 = np.matmul(d_ndarray, e_transposed)\n",
    "\n",
    "# Mostramos el resultado\n",
    "print(f\"El resultado de la multiplicación es:\")\n",
    "print(result4)"
   ]
  }
 ],
 "metadata": {
  "kernelspec": {
   "display_name": "data1",
   "language": "python",
   "name": "python3"
  },
  "language_info": {
   "codemirror_mode": {
    "name": "ipython",
    "version": 3
   },
   "file_extension": ".py",
   "mimetype": "text/x-python",
   "name": "python",
   "nbconvert_exporter": "python",
   "pygments_lexer": "ipython3",
   "version": "3.12.3"
  }
 },
 "nbformat": 4,
 "nbformat_minor": 5
}
