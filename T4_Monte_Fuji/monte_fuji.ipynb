{
 "cells": [
  {
   "cell_type": "markdown",
   "id": "d36f8739",
   "metadata": {},
   "source": [
    "## El Problema del Plegado de Papel del Monte Fuji\n",
    "Curso: Ingeniero de Machine Learning\n",
    "\n",
    "By: Est. Jorge Eduardo Antelo Zampieri"
   ]
  },
  {
   "cell_type": "markdown",
   "id": "625a72a2",
   "metadata": {},
   "source": [
    "#### ¿Cuántas veces hay que doblar un papel para superar al Monte Fuji?"
   ]
  },
  {
   "cell_type": "code",
   "execution_count": 8,
   "id": "0e22d648",
   "metadata": {},
   "outputs": [],
   "source": [
    "# Datos iniciales\n",
    "altura_monte_fuji = 3776  # en metros\n",
    "grosor_papel = 0.00008  # en metros"
   ]
  },
  {
   "cell_type": "code",
   "execution_count": 10,
   "id": "87cfa029",
   "metadata": {},
   "outputs": [],
   "source": [
    "# Variables de calculo\n",
    "grosor_actual = grosor_papel\n",
    "numero_dobleces = 0"
   ]
  },
  {
   "cell_type": "code",
   "execution_count": 11,
   "id": "cc939662",
   "metadata": {},
   "outputs": [],
   "source": [
    "# Empleamos el bucle while para doblar el papel hasta que supere la altura del Monte Fuji\n",
    "while grosor_actual < altura_monte_fuji:\n",
    "    grosor_actual = grosor_actual * 2   # Duplica el grosor en cada doblez\n",
    "    numero_dobleces = numero_dobleces + 1   # Aumenta el contador de dobleces\n"
   ]
  },
  {
   "cell_type": "code",
   "execution_count": 13,
   "id": "7cbf0b3e",
   "metadata": {},
   "outputs": [
    {
     "name": "stdout",
     "output_type": "stream",
     "text": [
      "Se necesitan 26 dobleces para superar la altura del Monte Fuji.\n",
      "El grosor final del papel es: 5368.71 metros\n"
     ]
    }
   ],
   "source": [
    "# Imprimimos el resultado\n",
    "print(f\"Se necesitan {numero_dobleces} dobleces para superar la altura del Monte Fuji.\")\n",
    "print(f\"El grosor final del papel es: {grosor_actual_m:.2f} metros\")"
   ]
  },
  {
   "cell_type": "markdown",
   "id": "cc145d75",
   "metadata": {},
   "source": [
    "#### Funciones para cualquier espesor."
   ]
  },
  {
   "cell_type": "code",
   "execution_count": 25,
   "id": "7ccdd0fa",
   "metadata": {},
   "outputs": [
    {
     "name": "stdout",
     "output_type": "stream",
     "text": [
      "El grosor inicial del papel es de: 8e-05 metros.\n",
      "Para llegar a Próxima Centauri, necesitarías doblar la hoja de papel 69 veces.\n"
     ]
    }
   ],
   "source": [
    "def calcular_dobleces(altura_objetivo, grosor_inicial):\n",
    "    \"\"\"\n",
    "    Calcula el número mínimo de veces que un papel de un grosor inicial\n",
    "    debe doblarse para superar una altura específica.\n",
    "\n",
    "    Args:\n",
    "        altura_objetivo_m (float): La altura que se desea alcanzar en metros.\n",
    "        grosor_inicial_m (float): El grosor inicial del papel en metros.\n",
    "\n",
    "    Returns:\n",
    "        int: El número de dobleces necesarios.\n",
    "    \"\"\"\n",
    "    grosor_actual_m = grosor_inicial\n",
    "    numero_dobleces = 0     # Modificar valor\n",
    "\n",
    "    while grosor_actual_m < altura_objetivo:\n",
    "        grosor_actual_m *= 2\n",
    "        numero_dobleces += 1\n",
    "\n",
    "    return numero_dobleces\n",
    "\n",
    "# Distancia a Próxima Centauri\n",
    "distancia_proxima_centauri_m = 4.0175e16\n",
    "\n",
    "# Definir el grosor inicial de una hoja de papel en metros\n",
    "grosor_papel_inicial_m = 0.00008    #Modificar valor\n",
    "\n",
    "# Usar la función para calcular los dobleces\n",
    "dobleces_necesarios = calcular_dobleces(distancia_proxima_centauri_m, grosor_papel_inicial_m)\n",
    "\n",
    "# MOstar resultados de la función\n",
    "print(f\"El grosor inicial del papel es de: {grosor_papel_inicial_m} metros.\")\n",
    "print(f\"Para llegar a Próxima Centauri, necesitarías doblar la hoja de papel {dobleces_necesarios} veces.\")\n"
   ]
  },
  {
   "cell_type": "markdown",
   "id": "fd43ea61",
   "metadata": {},
   "source": [
    "#### Calcule la longitud de papel necesaria para doblarlo al grosor deseado"
   ]
  },
  {
   "cell_type": "code",
   "execution_count": 35,
   "id": "47fe1ea2",
   "metadata": {},
   "outputs": [],
   "source": [
    "# Importamos la librería Math\n",
    "import math\n",
    "import matplotlib.pyplot as plt\n",
    "import numpy as np"
   ]
  },
  {
   "cell_type": "code",
   "execution_count": 28,
   "id": "fb497719",
   "metadata": {},
   "outputs": [],
   "source": [
    "#Datos iniciales\n",
    "grosor_papel_inicial_m = 0.00008\n",
    "distancia_monte_fuji_m = 3776\n",
    "distancia_luna_m = 384400 * 1000  # Converción de km a metros\n",
    "distancia_proxima_centauri_m = 4.0175e16"
   ]
  },
  {
   "cell_type": "code",
   "execution_count": null,
   "id": "9f38ffb7",
   "metadata": {},
   "outputs": [
    {
     "name": "stdout",
     "output_type": "stream",
     "text": [
      "Cálculo de la longitud de papel necesaria para alcanzar objetivos:\n",
      "------------------------------------------------------------------\n",
      "Para llegar a la altura del Monte Fuji (3776 m):\n",
      "  - Se necesitan 26 dobleces.\n",
      "  - La longitud de papel requerida es de 1.89e+11 metros.\n",
      "--------------------------------------------------\n",
      "Para llegar a la Luna (384400.0 km):\n",
      "  - Se necesitan 43 dobleces.\n",
      "  - La longitud de papel requerida es de 3.24e+21 metros.\n",
      "--------------------------------------------------\n",
      "Para llegar a Próxima Centauri (4.0175e+16 m):\n",
      "  - Se necesitan 69 dobleces.\n",
      "  - La longitud de papel requerida es de 1.46e+37 metros.\n"
     ]
    }
   ],
   "source": [
    "#Creamos la función para calcular la longitud de papel necesaria\n",
    "def calcular_longitud_necesaria(n_dobleces, grosor_inicial_m):\n",
    "    \"\"\"\n",
    "    Calcula la longitud de papel necesaria para doblarlo 'n' veces.\n",
    "\n",
    "    Args:\n",
    "        n_dobleces (int): El número de veces que se desea doblar el papel.\n",
    "        grosor_inicial_m (float): El grosor inicial del papel en metros.\n",
    "\n",
    "    Returns:\n",
    "        float: La longitud necesaria del papel en metros.\n",
    "    \"\"\"\n",
    "    longitud = (math.pi * grosor_inicial_m / 6) * (2**n_dobleces + 4) * (2**n_dobleces - 1)\n",
    "    return longitud\n",
    "\n",
    "def calcular_dobleces(altura_objetivo_m, grosor_inicial_m):\n",
    "    \"\"\"\n",
    "    Calcula el número mínimo de veces que se debe doblar un papel para alcanzar\n",
    "    una altura objetivo.\n",
    "\n",
    "    Args:\n",
    "        altura_objetivo_m (float): La altura que se desea alcanzar en metros.\n",
    "        grosor_inicial_m (float): El grosor inicial del papel en metros.\n",
    "\n",
    "    Returns:\n",
    "        int: El número de dobleces necesarios.\n",
    "    \"\"\"\n",
    "    grosor_actual_m = grosor_inicial_m\n",
    "    numero_dobleces = 0\n",
    "\n",
    "    while grosor_actual_m < altura_objetivo_m:\n",
    "        grosor_actual_m *= 2\n",
    "        numero_dobleces += 1\n",
    "    return numero_dobleces\n"
   ]
  },
  {
   "cell_type": "code",
   "execution_count": 30,
   "id": "339e041a",
   "metadata": {},
   "outputs": [],
   "source": [
    "# Calculamos el número de dobleces necesarios\n",
    "n_dobleces_fuji = calcular_dobleces(distancia_monte_fuji_m, grosor_papel_inicial_m)\n",
    "n_dobleces_luna = calcular_dobleces(distancia_luna_m, grosor_papel_inicial_m)\n",
    "n_dobleces_proxima_centauri = calcular_dobleces(distancia_proxima_centauri_m, grosor_papel_inicial_m)"
   ]
  },
  {
   "cell_type": "code",
   "execution_count": 31,
   "id": "c63f5815",
   "metadata": {},
   "outputs": [],
   "source": [
    "# Calcula,os la longitud de papel necesaria\n",
    "longitud_fuji_m = calcular_longitud_necesaria(n_dobleces_fuji, grosor_papel_inicial_m)\n",
    "longitud_luna_m = calcular_longitud_necesaria(n_dobleces_luna, grosor_papel_inicial_m)\n",
    "longitud_proxima_centauri_m = calcular_longitud_necesaria(n_dobleces_proxima_centauri, grosor_papel_inicial_m)"
   ]
  },
  {
   "cell_type": "code",
   "execution_count": 33,
   "id": "1efed4ef",
   "metadata": {},
   "outputs": [
    {
     "name": "stdout",
     "output_type": "stream",
     "text": [
      "------------------------------------------------------------------\n",
      "Para llegar a la altura del Monte Fuji (3776 m):\n",
      "  - Se necesitan 26 dobleces.\n",
      "  - La longitud de papel requerida es de 1.89e+11 metros.\n",
      "--------------------------------------------------\n",
      "Para llegar a la Luna (384400.0 km):\n",
      "  - Se necesitan 43 dobleces.\n",
      "  - La longitud de papel requerida es de 3.24e+21 metros.\n",
      "--------------------------------------------------\n",
      "Para llegar a Próxima Centauri (4.0175e+16 m):\n",
      "  - Se necesitan 69 dobleces.\n",
      "  - La longitud de papel requerida es de 1.46e+37 metros.\n"
     ]
    }
   ],
   "source": [
    "# Mostramos resultados\n",
    "print(\"------------------------------------------------------------------\")\n",
    "print(f\"Para llegar a la altura del Monte Fuji ({distancia_monte_fuji_m} m):\")\n",
    "print(f\"  - Se necesitan {n_dobleces_fuji} dobleces.\")\n",
    "print(f\"  - La longitud de papel requerida es de {longitud_fuji_m:.2e} metros.\")\n",
    "print(\"-\" * 50)\n",
    "print(f\"Para llegar a la Luna ({distancia_luna_m / 1000} km):\")\n",
    "print(f\"  - Se necesitan {n_dobleces_luna} dobleces.\")\n",
    "print(f\"  - La longitud de papel requerida es de {longitud_luna_m:.2e} metros.\")\n",
    "print(\"-\" * 50)\n",
    "print(f\"Para llegar a Próxima Centauri ({distancia_proxima_centauri_m} m):\")\n",
    "print(f\"  - Se necesitan {n_dobleces_proxima_centauri} dobleces.\")\n",
    "print(f\"  - La longitud de papel requerida es de {longitud_proxima_centauri_m:.2e} metros.\")"
   ]
  },
  {
   "cell_type": "code",
   "execution_count": 63,
   "id": "2c601477",
   "metadata": {},
   "outputs": [
    {
     "data": {
      "image/png": "[encoded data removed]",
      "text/plain": [
       "<Figure size 1000x600 with 2 Axes>"
      ]
     },
     "metadata": {},
     "output_type": "display_data"
    }
   ],
   "source": [
    "# --- Preparar los datos para el gráfico ---\n",
    "objetivos = ['Próxima Centauri', 'Luna', 'Monte Fuji']\n",
    "\n",
    "# Invertimos el orden para que el gráfico se muestre de mayor a menor\n",
    "dobleces = [n_dobleces_proxima_centauri, n_dobleces_luna, n_dobleces_fuji]\n",
    "longitudes = [longitud_proxima_centauri_m, longitud_luna_m, longitud_fuji_m]\n",
    "\n",
    "# Las longitudes son tan grandes que usaremos logaritmos para visualizarlas\n",
    "longitudes_log = [math.log10(l) for l in longitudes]\n",
    "\n",
    "# --- Crear el gráfico de barras horizontales ---\n",
    "fig, ax1 = plt.subplots(figsize=(10, 6))\n",
    "\n",
    "# Ancho de las barras\n",
    "bar_height = 0.30\n",
    "y_pos = np.arange(len(objetivos))\n",
    "\n",
    "# Graficar el número de dobleces\n",
    "bar1 = ax1.barh(y_pos - bar_height/2, dobleces, bar_height, label='Número de dobleces', color='tab:gray')\n",
    "ax1.set_xlabel('Número de dobleces', color='tab:blue')\n",
    "ax1.set_yticks(y_pos)\n",
    "ax1.tick_params(axis='x', labelcolor='tab:gray')\n",
    "ax1.set_yticklabels(objetivos, fontsize=12, rotation=70)\n",
    "ax1.set_xlim(0, 100) # Ajustar el límite para que se vean mejor las barras\n",
    "\n",
    "# Añadir las etiquetas con los valores en las barras de dobleces\n",
    "for index, value in enumerate(dobleces):\n",
    "    ax1.text(value, index - bar_height/2, value, va='center', ha='left', color='black', fontsize=10)\n",
    "\n",
    "# Crear un segundo eje para la longitud (en escala logarítmica)\n",
    "ax2 = ax1.twiny()\n",
    "bar2 = ax2.barh(y_pos + bar_height/2, longitudes_log, bar_height, label='Longitud en metros(Log10)', color='tab:orange')\n",
    "ax2.set_xlabel('Longitud en metros(Log10)', color='tab:blue')\n",
    "ax2.tick_params(axis='x', labelcolor='tab:gray')\n",
    "\n",
    "# Añadir las etiquetas con los valores en las barras de longitud\n",
    "for index, value in enumerate(longitudes_log):\n",
    "    ax2.text(value, index + bar_height/2, f' $10^{{{value:.0f}}}$', va='center', ha='left', color='black', fontsize=10)\n",
    "\n",
    "# Ajustes visuales del gráfico\n",
    "plt.title('Cantidad de Doblez y Distancia')\n",
    "fig.tight_layout()\n",
    "\n",
    "# Añadir la leyenda para ambas barras\n",
    "fig.legend(loc='lower right', bbox_to_anchor=(0.95, 0.75))\n",
    "plt.savefig('doblez_y_distancia.png', dpi=400)\n",
    "plt.show()"
   ]
  }
 ],
 "metadata": {
  "kernelspec": {
   "display_name": "data1",
   "language": "python",
   "name": "python3"
  },
  "language_info": {
   "codemirror_mode": {
    "name": "ipython",
    "version": 3
   },
   "file_extension": ".py",
   "mimetype": "text/x-python",
   "name": "python",
   "nbconvert_exporter": "python",
   "pygments_lexer": "ipython3",
   "version": "3.12.3"
  }
 },
 "nbformat": 4,
 "nbformat_minor": 5
}
