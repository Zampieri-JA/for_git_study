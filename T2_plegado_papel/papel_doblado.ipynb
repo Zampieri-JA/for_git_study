{
 "cells": [
  {
   "cell_type": "markdown",
   "id": "9e61df3e",
   "metadata": {},
   "source": [
    "## Problema del doblado de papel\n",
    "Curso: Ingeniero de Machine Learning\n",
    "\n",
    "By: Est. Jorge Eduardo Antelo Zampieri"
   ]
  },
  {
   "cell_type": "markdown",
   "id": "63a8c842",
   "metadata": {},
   "source": [
    "#### He oído que si doblas un trozo de papel constantemente, se vuelve más grueso, y si lo doblas 43 veces, alcanzará la luna. Sin embargo, es bastante difícil calcular a mano su grosor después de doblarlo 43 veces."
   ]
  },
  {
   "cell_type": "markdown",
   "id": "7c983676",
   "metadata": {},
   "source": [
    "#### Solución: ¿Cuá es el grosor final despues de doblarlo 43 veces?\n",
    "### Fórmula: el43 = el0 * 2^43"
   ]
  },
  {
   "cell_type": "code",
   "execution_count": 89,
   "id": "af2a8fd9",
   "metadata": {},
   "outputs": [],
   "source": [
    "# Datos iniciales\n",
    "g_inicial = 0.00008  #metros\n",
    "n_dobles = 43  #veces\n",
    "d_luna = 384400  #Kilómetros"
   ]
  },
  {
   "cell_type": "markdown",
   "id": "880de376",
   "metadata": {},
   "source": [
    "#### Usando operadores exponenciales"
   ]
  },
  {
   "cell_type": "code",
   "execution_count": 90,
   "id": "fc1545f7",
   "metadata": {},
   "outputs": [
    {
     "name": "stdout",
     "output_type": "stream",
     "text": [
      "8796093022208\n"
     ]
    }
   ],
   "source": [
    "# Cálculo de la potencia\n",
    "potencia = 2 ** n_dobles\n",
    "print(potencia)"
   ]
  },
  {
   "cell_type": "code",
   "execution_count": 91,
   "id": "76cebace",
   "metadata": {},
   "outputs": [
    {
     "name": "stdout",
     "output_type": "stream",
     "text": [
      "Grosor final después de 43 dobles: 703687441.78 metros\n"
     ]
    }
   ],
   "source": [
    "# Calculo del grosor final después de doblarlo 43 veces  \n",
    "g_final = g_inicial * potencia\n",
    "print(f\"Grosor final después de {n_dobles} dobles: {g_final:.2f} metros\")"
   ]
  },
  {
   "cell_type": "markdown",
   "id": "cd30fc9b",
   "metadata": {},
   "source": [
    "#### Usando ciclo for"
   ]
  },
  {
   "cell_type": "code",
   "execution_count": 92,
   "id": "c7704ade",
   "metadata": {},
   "outputs": [
    {
     "name": "stdout",
     "output_type": "stream",
     "text": [
      "Grosor final usando ciclo for: 703687441.78 metros\n"
     ]
    }
   ],
   "source": [
    "# Ciclo for de manera directa\n",
    "g_final_for1 = g_inicial\n",
    "for i in range(n_dobles):\n",
    "    g_final_for1 *= 2\n",
    "print(f\"Grosor final usando ciclo for: {g_final_for1:.2f} metros\")"
   ]
  },
  {
   "cell_type": "code",
   "execution_count": 93,
   "id": "f35c899e",
   "metadata": {},
   "outputs": [
    {
     "name": "stdout",
     "output_type": "stream",
     "text": [
      "Después de 5 dobles: 0.003 metros\n",
      "Después de 10 dobles: 0.082 metros\n",
      "Después de 20 dobles: 83.886 metros\n",
      "Después de 30 dobles: 85899.346 metros\n",
      "Después de 40 dobles: 87960930.222 metros\n",
      "Después de 43 dobles: 703687441.777 metros\n"
     ]
    }
   ],
   "source": [
    "# Ciclo for de manera detallada\n",
    "g_final_for2 = g_inicial\n",
    "for doblado in range(1, n_dobles + 1):\n",
    "    g_final_for2 *= 2\n",
    "    if doblado in [5, 10, 20, 30, 40, 43]:  # visualizando algunos dobles \n",
    "        print(f\"Después de {doblado} dobles: {g_final_for2:.3f} metros\")"
   ]
  },
  {
   "cell_type": "markdown",
   "id": "afd1b3b5",
   "metadata": {},
   "source": [
    "##### La distancia a la Luna es de aproximadamente 384.400 km. Veamos si el papel doblado puede llegar a la Luna"
   ]
  },
  {
   "cell_type": "code",
   "execution_count": 94,
   "id": "6e00fe6e",
   "metadata": {},
   "outputs": [
    {
     "name": "stdout",
     "output_type": "stream",
     "text": [
      "Grosor final: 703687.44 kilómetros\n"
     ]
    }
   ],
   "source": [
    "# Convirtiendo los metros a kilómetros\n",
    "g_final_km = g_final / 1000\n",
    "print(f\"Grosor final: {g_final_km:.2f} kilómetros\")"
   ]
  },
  {
   "cell_type": "code",
   "execution_count": 95,
   "id": "06637bb0",
   "metadata": {},
   "outputs": [
    {
     "name": "stdout",
     "output_type": "stream",
     "text": [
      "El grosor final es mayor que la distancia a la Luna.\n",
      "Es 1.83 veces mayor.\n",
      "la diferencia es de: 319287.44 kilómetros.\n"
     ]
    }
   ],
   "source": [
    "if g_final_km > d_luna:\n",
    "    veces_mayor = g_final_km / d_luna\n",
    "    diferencia_km = g_final_km - d_luna\n",
    "    \n",
    "    print(f\"El grosor final es mayor que la distancia a la Luna.\")\n",
    "    print(f\"Es {veces_mayor:.2f} veces mayor.\")\n",
    "    print(f\"la diferencia es de: {diferencia_km:.2f} kilómetros.\")"
   ]
  },
  {
   "cell_type": "markdown",
   "id": "ebafa60b",
   "metadata": {},
   "source": [
    "#### Midiendo el tiempo y otros parámetros de ambas soluciones:"
   ]
  },
  {
   "cell_type": "code",
   "execution_count": 96,
   "id": "fc94086f",
   "metadata": {},
   "outputs": [],
   "source": [
    "# Importamos la librería time para medir el tiempo de ejecución\n",
    "import time\n",
    "from memory_profiler import memory_usage"
   ]
  },
  {
   "cell_type": "code",
   "execution_count": 97,
   "id": "efd4640a",
   "metadata": {},
   "outputs": [],
   "source": [
    "#\n",
    "def calc_g_final(g_inicial, n_dobles):\n",
    "    potencia = 2 ** n_dobles\n",
    "    return g_inicial * potencia\n",
    "\n",
    "def calc_g_final_for1(g_inicial, n_dobles):\n",
    "    g = g_inicial\n",
    "    for _ in range(n_dobles):\n",
    "        g *= 2\n",
    "    return g"
   ]
  },
  {
   "cell_type": "code",
   "execution_count": 98,
   "id": "83517f9a",
   "metadata": {},
   "outputs": [
    {
     "name": "stdout",
     "output_type": "stream",
     "text": [
      "Operadores Exponenciales:\n",
      "- Tiempo de ejecución : 1.345874 segundos\n",
      "- Uso de memoria: 0.042969 MiB\n",
      "Ciclo For\n",
      "- Tiempo de ejecución: 0.716205 segundos\n",
      "- Uso de memoria: 0.000000 MiB\n"
     ]
    }
   ],
   "source": [
    "# Medir tiempo y memoria para g_final\n",
    "start_time = time.time()\n",
    "mem_usage_g_final = memory_usage((calc_g_final, (g_inicial, n_dobles)), max_iterations=1)\n",
    "g_final_result = calc_g_final(g_inicial, n_dobles)\n",
    "end_time = time.time()\n",
    "print(\"Operadores Exponenciales:\")\n",
    "print(f\"- Tiempo de ejecución : {end_time - start_time:.6f} segundos\")\n",
    "print(f\"- Uso de memoria: {max(mem_usage_g_final) - min(mem_usage_g_final):.6f} MiB\")\n",
    "\n",
    "# Medir tiempo y memoria para g_final_for1\n",
    "start_time = time.time()\n",
    "mem_usage_g_final_for1 = memory_usage((calc_g_final_for1, (g_inicial, n_dobles)), max_iterations=1)\n",
    "g_final_for1_result = calc_g_final_for1(g_inicial, n_dobles)\n",
    "end_time = time.time()\n",
    "print(\"Ciclo For\")\n",
    "print(f\"- Tiempo de ejecución: {end_time - start_time:.6f} segundos\")\n",
    "print(f\"- Uso de memoria: {max(mem_usage_g_final_for1) - min(mem_usage_g_final_for1):.6f} MiB\")"
   ]
  },
  {
   "cell_type": "markdown",
   "id": "328290da",
   "metadata": {},
   "source": [
    "#### Visualizando el proceso"
   ]
  },
  {
   "cell_type": "code",
   "execution_count": 99,
   "id": "7c3d04c5",
   "metadata": {},
   "outputs": [],
   "source": [
    "# importar matplotlib para graficar\n",
    "import matplotlib.pyplot as plt"
   ]
  },
  {
   "cell_type": "code",
   "execution_count": 100,
   "id": "3eb3fdb4",
   "metadata": {},
   "outputs": [
    {
     "name": "stdout",
     "output_type": "stream",
     "text": [
      "La lista contiene 44 valores: True\n"
     ]
    }
   ],
   "source": [
    "# Cremos una lista vacia\n",
    "grosor_dobles = []\n",
    "grosor_actual = g_inicial\n",
    "\n",
    "# Ciclo for para calcular el grosor\n",
    "for i in range(n_dobles + 1):\n",
    "    grosor_dobles.append(grosor_actual)\n",
    "    grosor_actual *= 2\n",
    "\n",
    "# Lista para el eje X (número de dobles)\n",
    "dobles = list(range(n_dobles + 1))\n",
    "\n",
    "# verificamos si la lista tiene 44 valores (incluyendo el inicial)\n",
    "print(f\"La lista contiene 44 valores: {len(grosor_dobles) == 44}\")"
   ]
  },
  {
   "cell_type": "code",
   "execution_count": 102,
   "id": "267baa5e",
   "metadata": {},
   "outputs": [
    {
     "data": {
      "image/png": "[encoded data removed]",
      "text/plain": [
       "<Figure size 1000x600 with 1 Axes>"
      ]
     },
     "metadata": {},
     "output_type": "display_data"
    }
   ],
   "source": [
    "# Creamos el gráfico\n",
    "plt.figure(figsize=(10, 6))\n",
    "plt.plot(dobles, grosor_dobles, marker='o', linestyle='-', color='red')\n",
    "plt.title('Thickness of folded paper', fontsize=14, fontweight='bold', color='darkred')\n",
    "plt.xlabel('Number of folds', color='darkred')\n",
    "plt.ylabel('Thickness [m]', color='darkred')\n",
    "plt.tick_params(labelsize=10)\n",
    "plt.grid(True)\n",
    "plt.yscale('log')  # Escala logarítmica \n",
    "plt.savefig('Grosor_Papel_Doblado.png', dpi=400)\n",
    "plt.show()"
   ]
  }
 ],
 "metadata": {
  "kernelspec": {
   "display_name": "data1",
   "language": "python",
   "name": "python3"
  },
  "language_info": {
   "codemirror_mode": {
    "name": "ipython",
    "version": 3
   },
   "file_extension": ".py",
   "mimetype": "text/x-python",
   "name": "python",
   "nbconvert_exporter": "python",
   "pygments_lexer": "ipython3",
   "version": "3.12.3"
  }
 },
 "nbformat": 4,
 "nbformat_minor": 5
}
